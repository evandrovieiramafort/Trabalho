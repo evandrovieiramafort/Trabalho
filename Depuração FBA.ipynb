{
 "cells": [
  {
   "cell_type": "markdown",
   "id": "e3e79db5",
   "metadata": {},
   "source": [
    "# Etapas preliminares\n",
    "\n",
    "##### Envolve a inicialização de todas as bibliotecas que serão utilizadas aqui e de uma função em específico - como o Jupyter não disponibiliza o tempo de execução diretamente, foi necessário montar uma função que me mostrasse isso em cada célula."
   ]
  },
  {
   "cell_type": "code",
   "execution_count": 7,
   "id": "14299914",
   "metadata": {},
   "outputs": [
    {
     "name": "stdout",
     "output_type": "stream",
     "text": [
      "Tempo de execução: 0.00s\n"
     ]
    }
   ],
   "source": [
    "import pandas as pd\n",
    "import numpy as np\n",
    "import time\n",
    "import os\n",
    "import shutil\n",
    "\n",
    "# A função de tempo de execução. Pra que ela funcione adequadamente, dois checkpoints precisam ser criados - um no começo do\n",
    "# código, outro ao final do código (por convenção, se chamarão C1 e C2).\n",
    "C1 = time.time()\n",
    "def exec_time(inicio, fim):\n",
    "    tempo = fim - inicio\n",
    "    if tempo >= 60:\n",
    "        minutos = tempo/60\n",
    "        segundos = tempo - (60 * minutos)\n",
    "        return print(f\"Tempo de execução: {minutos:.0f}m{segundos:.1f}s\")\n",
    "    else:\n",
    "        return print(f\"Tempo de execução: {tempo:.2f}s\")\n",
    "    \n",
    "def troca_uf(column):\n",
    "    col = []\n",
    "    for item in column:\n",
    "        if item == \"São Paulo\":\n",
    "            col.append(\"SP\")\n",
    "        elif item == \"amazonas\":\n",
    "            col.append(\"AM\")\n",
    "        elif item == \"Minas Gerais\":\n",
    "            col.append(\"MG\")\n",
    "        elif item == \"Rio de Janeiro\":\n",
    "            col.append(\"RJ\")\n",
    "        elif item == \"Amapá\":\n",
    "            col.append(\"AP\")\n",
    "        elif item == \"Mato Grosso do Sul\":\n",
    "            col.append(\"MS\")\n",
    "        elif item == \"Rondonia\":\n",
    "            col.append(\"RO\")\n",
    "        else:\n",
    "            col.append(item)\n",
    "    return col\n",
    "\n",
    "C2 = time.time()\n",
    "exec_time(C1,C2)"
   ]
  },
  {
   "cell_type": "markdown",
   "id": "a98df247",
   "metadata": {},
   "source": [
    "# Primeira parte: Fusão das planilhas\n",
    "\n",
    "##### A primeira etapa envolve a fusão de todos os arquivos .XLSX que estão dentro de uma pasta. Facilita o manuseio dos dados na hora de montar os relatórios e corta algumas etapas desnecessárias."
   ]
  },
  {
   "cell_type": "code",
   "execution_count": 8,
   "id": "b8031bc7",
   "metadata": {},
   "outputs": [
    {
     "name": "stdout",
     "output_type": "stream",
     "text": [
      "Tempo de execução: 0.77s\n"
     ]
    }
   ],
   "source": [
    "C1 = time.time()\n",
    "\n",
    "path = # Aqui vai o endereço do diretório onde estão os arquivos\n",
    "lista = []\n",
    "\n",
    "for arquivo in os.listdir(path):\n",
    "    if arquivo.endswith(\".xlsx\"):\n",
    "        lista.append(pd.read_excel(os.path.join(path,arquivo)))\n",
    "        \n",
    "df = pd.concat(lista,axis=0)\n",
    "df.to_excel(\"Nome do arquivo.xlsx\")\n",
    "\n",
    "source = # Endereço do diretório de origem\n",
    "destination = # Endereço do diretório de destino\n",
    "shutil.move(source, destination)\n",
    "\n",
    "C2 = time.time()\n",
    "exec_time(C1,C2)"
   ]
  },
  {
   "cell_type": "markdown",
   "id": "962db22c",
   "metadata": {},
   "source": [
    "# Segunda parte: Depuração\n",
    "\n",
    "#####    Inputs dados, arquivos fundidos em um só - agora é a parte onde todas as planilhas passarão por tratamento (as tornando utilizáveis posteriormente no Power BI)"
   ]
  },
  {
   "cell_type": "code",
   "execution_count": 9,
   "id": "01c0335a",
   "metadata": {
    "scrolled": false
   },
   "outputs": [
    {
     "name": "stdout",
     "output_type": "stream",
     "text": [
      "Tempo de execução: 0.30s\n"
     ]
    }
   ],
   "source": [
    "C1 = time.time()\n",
    "\n",
    "col = []\n",
    "cab = [\"ID do pedido\", \"Data de compra\", \"Data de envio\", \"SKU do vendedor\",\n",
    "\"Título\", \"Quantidade enviada\",\"Preço do produto\",\"Preço do frete\", \"Nível do serviço de envio\",\n",
    "\"Cidade de envio\",\"Estado de envio\"]\n",
    "\n",
    "arquivo = pd.read_excel(\"Endereço do diretório a ser usado\",usecols=cab)\n",
    "df = pd.DataFrame(arquivo)\n",
    "df[df[\"SKU do vendedor\"].str.contains(\"FBA\")]\n",
    "df.replace(np.nan,0)\n",
    "\n",
    "col = troca_uf(df[\"Estado de envio\"])\n",
    "df[\"Estado\"] = col\n",
    "df = df.drop(\"Estado de envio\",axis=1)\n",
    "df[\"Faturamento bruto\"] = df.loc[:,['Preço do produto' , 'Preço do frete']].sum(axis = 1)\n",
    "\n",
    "C2 = time.time()\n",
    "exec_time(C1,C2)"
   ]
  },
  {
   "cell_type": "markdown",
   "id": "7b7e1037",
   "metadata": {},
   "source": [
    "# Terceira parte: Exportação\n",
    "\n",
    "##### É aqui que o processo finaliza. O Dataframe é salvo e movido de pastas, por questões de organização e estruturação."
   ]
  },
  {
   "cell_type": "code",
   "execution_count": 12,
   "id": "91650e61",
   "metadata": {},
   "outputs": [
    {
     "name": "stdout",
     "output_type": "stream",
     "text": [
      "Tempo de execução: 0.26s\n"
     ]
    }
   ],
   "source": [
    "C1 = time.time()\n",
    "\n",
    "df.to_excel(\"Nome do arquivo.xlsx\")\n",
    "\n",
    "source = # Endereço do diretório de origem\n",
    "destination = # Endereço do diretório de destino\n",
    "\n",
    "shutil.move(source, destination)\n",
    "\n",
    "C2 = time.time()\n",
    "exec_time(C1,C2)"
   ]
  },
  {
   "cell_type": "code",
   "execution_count": null,
   "id": "cdf67ce4",
   "metadata": {},
   "outputs": [],
   "source": []
  }
 ],
 "metadata": {
  "kernelspec": {
   "display_name": "Python 3",
   "language": "python",
   "name": "python3"
  },
  "language_info": {
   "codemirror_mode": {
    "name": "ipython",
    "version": 3
   },
   "file_extension": ".py",
   "mimetype": "text/x-python",
   "name": "python",
   "nbconvert_exporter": "python",
   "pygments_lexer": "ipython3",
   "version": "3.8.8"
  }
 },
 "nbformat": 4,
 "nbformat_minor": 5
}
